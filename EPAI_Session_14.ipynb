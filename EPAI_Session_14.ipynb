{
  "nbformat": 4,
  "nbformat_minor": 0,
  "metadata": {
    "colab": {
      "name": "EPAI Session 14.ipynb",
      "provenance": [],
      "collapsed_sections": [],
      "authorship_tag": "ABX9TyNohfeCzenzVfFDUo1NDGBj",
      "include_colab_link": true
    },
    "kernelspec": {
      "name": "python3",
      "display_name": "Python 3"
    }
  },
  "cells": [
    {
      "cell_type": "markdown",
      "metadata": {
        "id": "view-in-github",
        "colab_type": "text"
      },
      "source": [
        "<a href=\"https://colab.research.google.com/github/sagar9926/EPAI_session14/blob/main/EPAI_Session_14.ipynb\" target=\"_parent\"><img src=\"https://colab.research.google.com/assets/colab-badge.svg\" alt=\"Open In Colab\"/></a>"
      ]
    },
    {
      "cell_type": "markdown",
      "metadata": {
        "id": "StseC-d_WrQA"
      },
      "source": [
        "> ## Goal 1\n",
        "\n",
        "Refactor the Polygon class so that all the calculated properties are lazy properties, i.e. they should still be calculated properties, but they should not have to get recalculated more than once (since we made our Polygon class \"immutable\").\n",
        "\n"
      ]
    },
    {
      "cell_type": "code",
      "metadata": {
        "id": "NZ4o8L9oVVZF"
      },
      "source": [
        "import math\n",
        "\n",
        "class Polygon:\n",
        "    def __init__(self, n, R):\n",
        "        if n < 3:\n",
        "            raise ValueError('Polygon must have at least 3 vertices.')\n",
        "        self.count_vertices = n\n",
        "        self.circumradius = R\n",
        "        \n",
        "    def __repr__(self):\n",
        "        return f'Polygon(n={self.count_vertices}, R={self.circumradius})'\n",
        "    \n",
        "\n",
        "    @property\n",
        "    def count_vertices(self):\n",
        "        return self._count_vertices\n",
        "\n",
        "    @count_vertices.setter\n",
        "    def count_vertices(self,n):\n",
        "      self._count_vertices = n\n",
        "      self._interior_angle = None\n",
        "      self._side_length = None\n",
        "      self._apothem = None\n",
        "      self._area = None\n",
        "      self._perimeter = None\n",
        "\n",
        "    \n",
        "    @property\n",
        "    def count_edges(self):\n",
        "        return self._count_vertices\n",
        "    \n",
        "    @property\n",
        "    def circumradius(self):\n",
        "        return self._circumradius\n",
        " \n",
        "    @circumradius.setter\n",
        "    def circumradius(self,R):\n",
        "      self._circumradius = R\n",
        "      self._side_length = None\n",
        "      self._apothem = None\n",
        "      self._area = None\n",
        "      self._perimeter = None\n",
        "    \n",
        "    @property\n",
        "    def interior_angle(self):\n",
        "      if self._interior_angle is None:\n",
        "        print(\"Calculating Interior angle :\")\n",
        "        self._interior_angle  = (self.count_vertices - 2) * 180 / self.count_vertices\n",
        "      return self._interior_angle\n",
        "\n",
        "    @property\n",
        "    def side_length(self):\n",
        "      if self._side_length is None:\n",
        "        print(\"Calculating Side length :\")\n",
        "        self._side_length  = 2 * self.circumradius * math.sin(math.pi / self.count_vertices)\n",
        "      return self._side_length\n",
        "    \n",
        "    @property\n",
        "    def apothem(self):\n",
        "      if self._apothem is None:\n",
        "        print(\"Calculating apothem\")\n",
        "        self._apothem = self.circumradius * math.cos(math.pi / self.count_vertices)\n",
        "      return self._apothem\n",
        "    \n",
        "    @property\n",
        "    def area(self):\n",
        "      if self._area is None:\n",
        "        print(\"Calculating area\")\n",
        "        self._area = self._count_vertices/2 * self.side_length * self.apothem\n",
        "      return self._area\n",
        "    \n",
        "    @property\n",
        "    def perimeter(self):\n",
        "      if self._perimeter is None:\n",
        "        print(\"Calculating perimeter\")\n",
        "        self._perimeter = self.count_vertices * self.side_length\n",
        "      return self._perimeter\n",
        "    \n",
        "    def __eq__(self, other):\n",
        "        if isinstance(other, self.__class__):\n",
        "            return (self.count_edges == other.count_edges \n",
        "                    and self.circumradius == other.circumradius)\n",
        "        else:\n",
        "            return NotImplemented\n",
        "        \n",
        "    def __gt__(self, other):\n",
        "        if isinstance(other, self.__class__):\n",
        "            return self.count_vertices > other.count_vertices\n",
        "        else:\n",
        "            return NotImplemented"
      ],
      "execution_count": 46,
      "outputs": []
    },
    {
      "cell_type": "markdown",
      "metadata": {
        "id": "_BLSVIrbe-hF"
      },
      "source": [
        "> ## Goal 2\n",
        "\n",
        "Refactor the Polygons (sequence) type, into an iterable. Make sure also that the elements in the iterator are computed lazily - i.e. you can no longer use a list as an underlying storage mechanism for your polygons.\n",
        "\n",
        "You'll need to implement both an iterable, and an iterator."
      ]
    },
    {
      "cell_type": "code",
      "metadata": {
        "id": "l-teu6ePe5UR"
      },
      "source": [
        "class Polygons:\n",
        "    def __init__(self, m, R):\n",
        "        if m < 3:\n",
        "            raise ValueError('m must be greater than 3')\n",
        "        self._m = m\n",
        "        self._R = R\n",
        "        \n",
        "    def __len__(self):\n",
        "        return self._m - 2\n",
        "    \n",
        "    def __repr__(self):\n",
        "        return f'Polygons(m={self._m}, R={self._R})'\n",
        "    \n",
        "    def __getitem__(self, s):\n",
        "        return self._polygons[s]\n",
        "\n",
        "    def __iter__(self):\n",
        "      return self.PolygonIter(self._m,self._R)\n",
        "\n",
        "    class PolygonIter:\n",
        "      def __init__(self, m, R):\n",
        "        if m < 3:\n",
        "            raise ValueError('m must be greater than 3')\n",
        "        self._m = m\n",
        "        self._R = R\n",
        "        self.i = 3\n",
        "      \n",
        "      def __iter__(self):\n",
        "        return self\n",
        "\n",
        "      def __next__(self):\n",
        "        print(self.i)\n",
        "        if self.i > self._m :\n",
        "          raise StopIteration\n",
        "        else :\n",
        "          result = Polygon(self.i, self._R)\n",
        "          self.i += 1\n",
        "          return result\n",
        "    \n",
        "    @property\n",
        "    def max_efficiency_polygon(self):\n",
        "        sorted_polygons = sorted(self._polygons, \n",
        "                                 key=lambda p: p.area/p.perimeter,\n",
        "                                reverse=True)\n",
        "        return sorted_polygons[0]"
      ],
      "execution_count": 68,
      "outputs": []
    },
    {
      "cell_type": "code",
      "metadata": {
        "id": "rHX9fGXAfViu"
      },
      "source": [
        "p = Polygons(5,10)"
      ],
      "execution_count": 72,
      "outputs": []
    },
    {
      "cell_type": "code",
      "metadata": {
        "id": "D7qxGSLBfbEE",
        "outputId": "5845750a-84de-4f0c-b08f-e8fcc2e909ce",
        "colab": {
          "base_uri": "https://localhost:8080/"
        }
      },
      "source": [
        "list(p)"
      ],
      "execution_count": 73,
      "outputs": [
        {
          "output_type": "stream",
          "text": [
            "3\n",
            "4\n",
            "5\n",
            "6\n"
          ],
          "name": "stdout"
        },
        {
          "output_type": "execute_result",
          "data": {
            "text/plain": [
              "[Polygon(n=3, R=10), Polygon(n=4, R=10), Polygon(n=5, R=10)]"
            ]
          },
          "metadata": {
            "tags": []
          },
          "execution_count": 73
        }
      ]
    },
    {
      "cell_type": "code",
      "metadata": {
        "id": "4zf1G3-7fqeK",
        "outputId": "1ec025d8-b772-497e-92af-6e16ab10f497",
        "colab": {
          "base_uri": "https://localhost:8080/",
          "height": 162
        }
      },
      "source": [
        "p[0]"
      ],
      "execution_count": 74,
      "outputs": [
        {
          "output_type": "error",
          "ename": "TypeError",
          "evalue": "ignored",
          "traceback": [
            "\u001b[0;31m---------------------------------------------------------------------------\u001b[0m",
            "\u001b[0;31mTypeError\u001b[0m                                 Traceback (most recent call last)",
            "\u001b[0;32m<ipython-input-74-9c9874aa500a>\u001b[0m in \u001b[0;36m<module>\u001b[0;34m()\u001b[0m\n\u001b[0;32m----> 1\u001b[0;31m \u001b[0mp\u001b[0m\u001b[0;34m[\u001b[0m\u001b[0;36m0\u001b[0m\u001b[0;34m]\u001b[0m\u001b[0;34m\u001b[0m\u001b[0;34m\u001b[0m\u001b[0m\n\u001b[0m",
            "\u001b[0;31mTypeError\u001b[0m: 'Polygons' object does not support indexing"
          ]
        }
      ]
    },
    {
      "cell_type": "code",
      "metadata": {
        "id": "B5vaFDKqm1jL"
      },
      "source": [
        ""
      ],
      "execution_count": null,
      "outputs": []
    }
  ]
}