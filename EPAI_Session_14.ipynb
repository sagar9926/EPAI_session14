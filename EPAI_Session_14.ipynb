{
  "nbformat": 4,
  "nbformat_minor": 0,
  "metadata": {
    "colab": {
      "name": "EPAI Session 14.ipynb",
      "provenance": [],
      "collapsed_sections": [],
      "authorship_tag": "ABX9TyPPDu596Pok6hA1xuiiZODl",
      "include_colab_link": true
    },
    "kernelspec": {
      "name": "python3",
      "display_name": "Python 3"
    }
  },
  "cells": [
    {
      "cell_type": "markdown",
      "metadata": {
        "id": "view-in-github",
        "colab_type": "text"
      },
      "source": [
        "<a href=\"https://colab.research.google.com/github/sagar9926/EPAI_session14/blob/main/EPAI_Session_14.ipynb\" target=\"_parent\"><img src=\"https://colab.research.google.com/assets/colab-badge.svg\" alt=\"Open In Colab\"/></a>"
      ]
    },
    {
      "cell_type": "markdown",
      "metadata": {
        "id": "StseC-d_WrQA"
      },
      "source": [
        "> ## Goal 1\n",
        "\n",
        "Refactor the Polygon class so that all the calculated properties are lazy properties, i.e. they should still be calculated properties, but they should not have to get recalculated more than once (since we made our Polygon class \"immutable\").\n",
        "\n"
      ]
    },
    {
      "cell_type": "code",
      "metadata": {
        "id": "NZ4o8L9oVVZF"
      },
      "source": [
        "import math\n",
        "\n",
        "class Polygon:\n",
        "    def __init__(self, n, R):\n",
        "        if n < 3:\n",
        "            raise ValueError('Polygon must have at least 3 vertices.')\n",
        "        self.count_vertices = n\n",
        "        self.circumradius = R\n",
        "        \n",
        "    def __repr__(self):\n",
        "        return f'Polygon(n={self.count_vertices}, R={self.circumradius})'\n",
        "    \n",
        "\n",
        "    @property\n",
        "    def count_vertices(self):\n",
        "        return self._count_vertices\n",
        "\n",
        "    @count_vertices.setter\n",
        "    def count_vertices(self,n):\n",
        "      self._count_vertices = n\n",
        "      self._interior_angle = None\n",
        "      self._side_length = None\n",
        "      self._apothem = None\n",
        "      self._area = None\n",
        "      self._perimeter = None\n",
        "\n",
        "    \n",
        "    @property\n",
        "    def count_edges(self):\n",
        "        return self._count_vertices\n",
        "    \n",
        "    @property\n",
        "    def circumradius(self):\n",
        "        return self._circumradius\n",
        " \n",
        "    @circumradius.setter\n",
        "    def circumradius(self,R):\n",
        "      self._circumradius = R\n",
        "      self._side_length = None\n",
        "      self._apothem = None\n",
        "      self._area = None\n",
        "      self._perimeter = None\n",
        "    \n",
        "    @property\n",
        "    def interior_angle(self):\n",
        "      if self._interior_angle is None:\n",
        "        print(\"Calculating Interior angle :\")\n",
        "        self._interior_angle  = (self.count_vertices - 2) * 180 / self.count_vertices\n",
        "      return self._interior_angle\n",
        "\n",
        "    @property\n",
        "    def side_length(self):\n",
        "      if self._side_length is None:\n",
        "        print(\"Calculating Side length :\")\n",
        "        self._side_length  = 2 * self.circumradius * math.sin(math.pi / self.count_vertices)\n",
        "      return self._side_length\n",
        "    \n",
        "    @property\n",
        "    def apothem(self):\n",
        "      if self._apothem is None:\n",
        "        print(\"Calculating apothem\")\n",
        "        self._apothem = self.circumradius * math.cos(math.pi / self.count_vertices)\n",
        "      return self._apothem\n",
        "    \n",
        "    @property\n",
        "    def area(self):\n",
        "      if self._area is None:\n",
        "        print(\"Calculating area\")\n",
        "        self._area = self._count_vertices/2 * self.side_length * self.apothem\n",
        "      return self._area\n",
        "    \n",
        "    @property\n",
        "    def perimeter(self):\n",
        "      if self._perimeter is None:\n",
        "        print(\"Calculating perimeter\")\n",
        "        self._perimeter = self.count_vertices * self.side_length\n",
        "      return self._perimeter\n",
        "    \n",
        "    def __eq__(self, other):\n",
        "        if isinstance(other, self.__class__):\n",
        "            return (self.count_edges == other.count_edges \n",
        "                    and self.circumradius == other.circumradius)\n",
        "        else:\n",
        "            return NotImplemented\n",
        "        \n",
        "    def __gt__(self, other):\n",
        "        if isinstance(other, self.__class__):\n",
        "            return self.count_vertices > other.count_vertices\n",
        "        else:\n",
        "            return NotImplemented"
      ],
      "execution_count": 12,
      "outputs": []
    },
    {
      "cell_type": "code",
      "metadata": {
        "id": "lvTQmW9EuTDP"
      },
      "source": [
        "poly = Polygon(4,5)"
      ],
      "execution_count": 10,
      "outputs": []
    },
    {
      "cell_type": "code",
      "metadata": {
        "id": "NMwcCT-FuZTI",
        "outputId": "60dec7f4-7aae-4338-d3df-423391f187ef",
        "colab": {
          "base_uri": "https://localhost:8080/"
        }
      },
      "source": [
        "poly.area"
      ],
      "execution_count": 11,
      "outputs": [
        {
          "output_type": "stream",
          "text": [
            "Calculating area\n",
            "Calculating Side length :\n",
            "Calculating apothem\n"
          ],
          "name": "stdout"
        },
        {
          "output_type": "execute_result",
          "data": {
            "text/plain": [
              "50.0"
            ]
          },
          "metadata": {
            "tags": []
          },
          "execution_count": 11
        }
      ]
    },
    {
      "cell_type": "code",
      "metadata": {
        "id": "Y275OtP3ueGY",
        "outputId": "9c25dc81-d932-4f16-ed3e-fbadd226ee10",
        "colab": {
          "base_uri": "https://localhost:8080/"
        }
      },
      "source": [
        "poly.area"
      ],
      "execution_count": 13,
      "outputs": [
        {
          "output_type": "execute_result",
          "data": {
            "text/plain": [
              "50.0"
            ]
          },
          "metadata": {
            "tags": []
          },
          "execution_count": 13
        }
      ]
    },
    {
      "cell_type": "code",
      "metadata": {
        "id": "D3MQRWAuunm-"
      },
      "source": [
        "poly.circumradius = 6"
      ],
      "execution_count": 14,
      "outputs": []
    },
    {
      "cell_type": "code",
      "metadata": {
        "id": "1G-sTV1JutLw",
        "outputId": "235ea176-7c3e-432f-c71b-fa5121c99d73",
        "colab": {
          "base_uri": "https://localhost:8080/"
        }
      },
      "source": [
        "poly.area"
      ],
      "execution_count": 15,
      "outputs": [
        {
          "output_type": "stream",
          "text": [
            "Calculating area\n",
            "Calculating Side length :\n",
            "Calculating apothem\n"
          ],
          "name": "stdout"
        },
        {
          "output_type": "execute_result",
          "data": {
            "text/plain": [
              "72.0"
            ]
          },
          "metadata": {
            "tags": []
          },
          "execution_count": 15
        }
      ]
    },
    {
      "cell_type": "markdown",
      "metadata": {
        "id": "diINQw-puhBM"
      },
      "source": [
        "#### It is evident from previous case that we are doing lazy evaluation"
      ]
    },
    {
      "cell_type": "code",
      "metadata": {
        "id": "gxMkO73KugTz"
      },
      "source": [
        ""
      ],
      "execution_count": null,
      "outputs": []
    },
    {
      "cell_type": "markdown",
      "metadata": {
        "id": "_BLSVIrbe-hF"
      },
      "source": [
        "> ## Goal 2\n",
        "\n",
        "Refactor the Polygons (sequence) type, into an iterable. Make sure also that the elements in the iterator are computed lazily - i.e. you can no longer use a list as an underlying storage mechanism for your polygons.\n",
        "\n",
        "You'll need to implement both an iterable, and an iterator."
      ]
    },
    {
      "cell_type": "code",
      "metadata": {
        "id": "l-teu6ePe5UR"
      },
      "source": [
        "class Polygons:\n",
        "    def __init__(self, m, R):\n",
        "        if m < 3:\n",
        "            raise ValueError('m must be greater than 3')\n",
        "        self._m = m\n",
        "        self._R = R\n",
        "        \n",
        "    def __len__(self):\n",
        "        return self._m - 2\n",
        "    \n",
        "    def __repr__(self):\n",
        "        return f'Polygons(m={self._m}, R={self._R})'\n",
        "    \n",
        "    def __getitem__(self, s):\n",
        "      if s + 3 <= self._m :\n",
        "        return Polygon(s+3,self._R)\n",
        "      else :\n",
        "        raise IndexError(\"Index out of bounds\")\n",
        "\n",
        "    def __iter__(self):\n",
        "      return self.PolygonIter(self._m,self._R)\n",
        "\n",
        "    class PolygonIter:\n",
        "      def __init__(self, m, R):\n",
        "        if m < 3:\n",
        "            raise ValueError('m must be greater than 3')\n",
        "        self._m = m\n",
        "        self._R = R\n",
        "        self.i = 3\n",
        "      \n",
        "      def __iter__(self):\n",
        "        return self\n",
        "\n",
        "      def __next__(self):\n",
        "        if self.i > self._m :\n",
        "          raise StopIteration\n",
        "        else :\n",
        "          result = Polygon(self.i, self._R)\n",
        "          self.i += 1\n",
        "          return result\n",
        "    \n",
        "    @property\n",
        "    def max_efficiency_polygon(self):\n",
        "        sorted_polygons = sorted([p.area/p.perimeter \n",
        "                                  for p in self.PolygonIter(self._m,self._R)],\n",
        "                                 reverse = True)\n",
        "        return sorted_polygons[0]"
      ],
      "execution_count": 2,
      "outputs": []
    },
    {
      "cell_type": "code",
      "metadata": {
        "id": "WfUj_a4JuCOY"
      },
      "source": [
        "p = Polygons(5,10)"
      ],
      "execution_count": 4,
      "outputs": []
    },
    {
      "cell_type": "code",
      "metadata": {
        "id": "VMmc0wowuE2d",
        "outputId": "b694ffb0-bc23-4384-97c5-f91781439f09",
        "colab": {
          "base_uri": "https://localhost:8080/"
        }
      },
      "source": [
        "list(p)"
      ],
      "execution_count": 5,
      "outputs": [
        {
          "output_type": "execute_result",
          "data": {
            "text/plain": [
              "[Polygon(n=3, R=10), Polygon(n=4, R=10), Polygon(n=5, R=10)]"
            ]
          },
          "metadata": {
            "tags": []
          },
          "execution_count": 5
        }
      ]
    },
    {
      "cell_type": "code",
      "metadata": {
        "id": "lTE5w6zxuJhM",
        "outputId": "a0db9b97-5c42-4da6-d311-0a17a959c0fa",
        "colab": {
          "base_uri": "https://localhost:8080/"
        }
      },
      "source": [
        "p.max_efficiency_polygon"
      ],
      "execution_count": 6,
      "outputs": [
        {
          "output_type": "stream",
          "text": [
            "Calculating area\n",
            "Calculating Side length :\n",
            "Calculating apothem\n",
            "Calculating perimeter\n",
            "Calculating area\n",
            "Calculating Side length :\n",
            "Calculating apothem\n",
            "Calculating perimeter\n",
            "Calculating area\n",
            "Calculating Side length :\n",
            "Calculating apothem\n",
            "Calculating perimeter\n"
          ],
          "name": "stdout"
        },
        {
          "output_type": "execute_result",
          "data": {
            "text/plain": [
              "4.045084971874737"
            ]
          },
          "metadata": {
            "tags": []
          },
          "execution_count": 6
        }
      ]
    },
    {
      "cell_type": "code",
      "metadata": {
        "id": "BGXyW5mMuPY1"
      },
      "source": [
        ""
      ],
      "execution_count": null,
      "outputs": []
    }
  ]
}